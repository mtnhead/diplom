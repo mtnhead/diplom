{
 "cells": [
  {
   "cell_type": "code",
   "execution_count": 50,
   "id": "d63c2e33-cd96-4ae0-a1e5-d0182010e9a6",
   "metadata": {},
   "outputs": [],
   "source": [
    "import pandas as pd\n",
    "import numpy as np\n",
    "from sklearn.ensemble import RandomForestRegressor\n",
    "from sklearn.model_selection import train_test_split\n",
    "from sklearn.model_selection import cross_val_score"
   ]
  },
  {
   "cell_type": "markdown",
   "id": "056db7da-2155-4c35-9528-c1f444f1f54f",
   "metadata": {},
   "source": [
    "## Импортирование и подготовка данных"
   ]
  },
  {
   "cell_type": "code",
   "execution_count": 51,
   "id": "00865e0a-e212-4840-a8c4-ed53b8f4c633",
   "metadata": {},
   "outputs": [
    {
     "data": {
      "text/html": [
       "<div>\n",
       "<style scoped>\n",
       "    .dataframe tbody tr th:only-of-type {\n",
       "        vertical-align: middle;\n",
       "    }\n",
       "\n",
       "    .dataframe tbody tr th {\n",
       "        vertical-align: top;\n",
       "    }\n",
       "\n",
       "    .dataframe thead th {\n",
       "        text-align: right;\n",
       "    }\n",
       "</style>\n",
       "<table border=\"1\" class=\"dataframe\">\n",
       "  <thead>\n",
       "    <tr style=\"text-align: right;\">\n",
       "      <th></th>\n",
       "      <th>Location</th>\n",
       "      <th>Price</th>\n",
       "      <th>Rooms</th>\n",
       "      <th>Bathrooms</th>\n",
       "      <th>Car Parks</th>\n",
       "      <th>Property Type</th>\n",
       "      <th>Size</th>\n",
       "      <th>Furnishing</th>\n",
       "      <th>Class</th>\n",
       "    </tr>\n",
       "  </thead>\n",
       "  <tbody>\n",
       "    <tr>\n",
       "      <th>0</th>\n",
       "      <td>KLCC</td>\n",
       "      <td>1250000.0</td>\n",
       "      <td>2+1</td>\n",
       "      <td>3.0</td>\n",
       "      <td>2.0</td>\n",
       "      <td>Serviced Residence</td>\n",
       "      <td>1335.0</td>\n",
       "      <td>Fully Furnished</td>\n",
       "      <td>Built-up</td>\n",
       "    </tr>\n",
       "    <tr>\n",
       "      <th>1</th>\n",
       "      <td>Dutamas</td>\n",
       "      <td>1030000.0</td>\n",
       "      <td>3</td>\n",
       "      <td>4.0</td>\n",
       "      <td>2.0</td>\n",
       "      <td>Condominium (Corner)</td>\n",
       "      <td>1875.0</td>\n",
       "      <td>Partly Furnished</td>\n",
       "      <td>Built-up</td>\n",
       "    </tr>\n",
       "    <tr>\n",
       "      <th>2</th>\n",
       "      <td>Bukit Jalil</td>\n",
       "      <td>900000.0</td>\n",
       "      <td>4+1</td>\n",
       "      <td>3.0</td>\n",
       "      <td>2.0</td>\n",
       "      <td>Condominium (Corner)</td>\n",
       "      <td>1513.0</td>\n",
       "      <td>Partly Furnished</td>\n",
       "      <td>Built-up</td>\n",
       "    </tr>\n",
       "  </tbody>\n",
       "</table>\n",
       "</div>"
      ],
      "text/plain": [
       "      Location      Price Rooms  Bathrooms  Car Parks         Property Type  \\\n",
       "0         KLCC  1250000.0   2+1        3.0        2.0    Serviced Residence   \n",
       "1      Dutamas  1030000.0     3        4.0        2.0  Condominium (Corner)   \n",
       "2  Bukit Jalil   900000.0   4+1        3.0        2.0  Condominium (Corner)   \n",
       "\n",
       "     Size        Furnishing     Class  \n",
       "0  1335.0   Fully Furnished  Built-up  \n",
       "1  1875.0  Partly Furnished  Built-up  \n",
       "2  1513.0  Partly Furnished  Built-up  "
      ]
     },
     "execution_count": 51,
     "metadata": {},
     "output_type": "execute_result"
    }
   ],
   "source": [
    "data = pd.read_csv('kuala_clean.csv')\n",
    "data = data.drop('Unnamed: 0', axis=1)\n",
    "data = data[:5000]    # сэмпл 5000, чтобы пример быстрее работал\n",
    "data.head(3)"
   ]
  },
  {
   "cell_type": "markdown",
   "id": "76e7c257-5632-42d1-b34e-74af71ae5bcc",
   "metadata": {},
   "source": [
    "- Датасет - цены на жильё в Куала-Лумпуре вместе с параметрами квартир.\n",
    "- Модель предсказывает цену по параметрам."
   ]
  },
  {
   "cell_type": "code",
   "execution_count": 52,
   "id": "7718566a-6fba-4de1-b6f2-f30813bd78f0",
   "metadata": {},
   "outputs": [],
   "source": [
    "X = data.drop('Price', axis=1)\n",
    "y = data['Price']"
   ]
  },
  {
   "cell_type": "code",
   "execution_count": 53,
   "id": "0bec6c4b-988b-4266-a2fa-cdafb10b0918",
   "metadata": {},
   "outputs": [],
   "source": [
    "np.random.seed(69)\n",
    "from sklearn.preprocessing import OneHotEncoder\n",
    "from sklearn.compose import ColumnTransformer\n",
    "\n",
    "categorical_features = ['Location', 'Rooms', 'Property Type', 'Furnishing', 'Class']\n",
    "one_hot = OneHotEncoder()\n",
    "transformer = ColumnTransformer([('one_hot',\n",
    "                                   one_hot,\n",
    "                                   categorical_features)],\n",
    "                                   remainder='passthrough')\n",
    "\n",
    "transformed_X = transformer.fit_transform(X)"
   ]
  },
  {
   "cell_type": "markdown",
   "id": "193aa2c1-bf62-48ca-ac6f-f643eab94f9a",
   "metadata": {},
   "source": [
    "## Оценка предсказаний"
   ]
  },
  {
   "cell_type": "code",
   "execution_count": 54,
   "id": "104f8953-6fbb-4eac-b1de-c23fd53d5377",
   "metadata": {},
   "outputs": [
    {
     "data": {
      "text/plain": [
       "0.7843809072521262"
      ]
     },
     "execution_count": 54,
     "metadata": {},
     "output_type": "execute_result"
    }
   ],
   "source": [
    "# кросс-валидация\n",
    "\n",
    "np.random.seed(47)\n",
    "model = RandomForestRegressor()\n",
    "cross_val_score(model, transformed_X, y, cv=5, scoring='r2').mean()"
   ]
  },
  {
   "cell_type": "markdown",
   "id": "755c9b65-b375-444f-ba5d-a28e8b940d88",
   "metadata": {},
   "source": [
    "## Оценка с другими параметрами"
   ]
  },
  {
   "cell_type": "code",
   "execution_count": 55,
   "id": "a5d557eb-5401-4c56-980b-1be0c85724a8",
   "metadata": {},
   "outputs": [
    {
     "data": {
      "text/plain": [
       "0.8095978516077112"
      ]
     },
     "execution_count": 55,
     "metadata": {},
     "output_type": "execute_result"
    }
   ],
   "source": [
    "np.random.seed(47)\n",
    "tuned_model = RandomForestRegressor(min_samples_leaf=2, min_samples_split=4)\n",
    "cross_val_score(tuned_model, transformed_X, y, cv=5, scoring='r2').mean()"
   ]
  },
  {
   "cell_type": "markdown",
   "id": "222cf9b6-45e4-409b-8576-a82306fb9d23",
   "metadata": {},
   "source": [
    "**После изменения параметров R^2 вырос на 2,5%.**"
   ]
  }
 ],
 "metadata": {
  "kernelspec": {
   "display_name": "Python 3 (ipykernel)",
   "language": "python",
   "name": "python3"
  },
  "language_info": {
   "codemirror_mode": {
    "name": "ipython",
    "version": 3
   },
   "file_extension": ".py",
   "mimetype": "text/x-python",
   "name": "python",
   "nbconvert_exporter": "python",
   "pygments_lexer": "ipython3",
   "version": "3.12.4"
  }
 },
 "nbformat": 4,
 "nbformat_minor": 5
}
